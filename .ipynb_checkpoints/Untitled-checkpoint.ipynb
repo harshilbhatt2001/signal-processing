{
 "cells": [
  {
   "cell_type": "markdown",
   "metadata": {},
   "source": [
    "# The DFT: Numerical Aspects\n",
    "\n",
    "We will look at some numerical issues associated to the DFT; in particular we we will look at the differences in precision between the \"naive\" way of computing the DFT and the FFT algorithm.\n",
    " \n",
    "The definitions of the direct and inverse DFT for a length-$N$ signal are:\n",
    "\n",
    "\\begin{align*}\n",
    "    X[k] &= \\sum_{n=0}^{N-1} x[n]\\, e^{-j\\frac{2\\pi}{N}nk}, \\quad k=0, \\ldots, N-1 \\\\\n",
    "    x[n] &= \\frac{1}{N}\\sum_{k=0}^{N-1} X[k]\\, e^{j\\frac{2\\pi}{N}nk}, \\quad n=0, \\ldots, N-1\n",
    "\\end{align*}\n",
    "\n",
    "The DFT produces a complex-valued vector that we can represent either via its real and imaginary parts or via its magnitude $|X[k]|$ and phase $\\angle X[k] = \\arctan \\frac{\\text{Im}\\{X[k]\\}}{\\text{Re}\\{X[k]\\}}$."
   ]
  },
  {
   "cell_type": "markdown",
   "metadata": {},
   "source": [
    "## Direct Implementation\n",
    "\n",
    "### Numerical errors in real and imaginary parts\n",
    "\n",
    "The DFT can be easily implemented using the change of basis matrix ${W}_N$. This is an $N\\times N$ complex-valued matrix whose elements are \n",
    "\n",
    "$$\n",
    "    {W}_N(n,k)=e^{-j\\frac{2\\pi}{N}nk}\n",
    "$$\n",
    "\n",
    "so that the DFT of a vector $\\mathbf{x}$ is simply $\\mathbf{X} = W_N\\mathbf{x}$. Note that the inverse DFT can be obtained by simply conjugating ${W}_N$ so that $\\mathbf{x} = W_N^*\\mathbf{X}$."
   ]
  },
  {
   "cell_type": "code",
   "execution_count": 1,
   "metadata": {},
   "outputs": [],
   "source": [
    "%matplotlib inline\n",
    "import matplotlib\n",
    "import matplotlib.pyplot as plt\n",
    "import numpy as np"
   ]
  },
  {
   "cell_type": "code",
   "execution_count": null,
   "metadata": {},
   "outputs": [],
   "source": []
  }
 ],
 "metadata": {
  "kernelspec": {
   "display_name": "Python 3",
   "language": "python",
   "name": "python3"
  },
  "language_info": {
   "codemirror_mode": {
    "name": "ipython",
    "version": 3
   },
   "file_extension": ".py",
   "mimetype": "text/x-python",
   "name": "python",
   "nbconvert_exporter": "python",
   "pygments_lexer": "ipython3",
   "version": "3.8.2"
  }
 },
 "nbformat": 4,
 "nbformat_minor": 4
}
