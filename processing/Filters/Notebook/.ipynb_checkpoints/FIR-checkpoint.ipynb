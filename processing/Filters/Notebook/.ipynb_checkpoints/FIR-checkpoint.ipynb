{
 "cells": [
  {
   "cell_type": "markdown",
   "metadata": {},
   "source": [
    "# Implementing FIR filters\n",
    "\n",
    "In real-time filtering applications, filters are implemented by using some variation or other of their constant-coefficient difference equation (CCDE), so that one new output sample is generated for each new input sample. If all input data is available in advance, as in non-real-time (aka \"offline\") applications, then the CCDE-based algorithm is iteratively applied to all samples in the buffer.\n",
    "\n",
    "In the case of FIR filters, the CCDE coefficients correspond to the impulse response and implementing the CCDE is equivalent to performing a convolution sum. In this notebook we will look at different ways to implement FIR filters."
   ]
  },
  {
   "cell_type": "code",
   "execution_count": 22,
   "metadata": {},
   "outputs": [],
   "source": [
    "%matplotlib inline\n",
    "import matplotlib\n",
    "import matplotlib.pyplot as plt\n",
    "import numpy as np\n",
    "from numpy.fft import fft, ifft"
   ]
  },
  {
   "cell_type": "code",
   "execution_count": 23,
   "metadata": {},
   "outputs": [],
   "source": [
    "plt.rcParams[\"figure.figsize\"] = (15,6)"
   ]
  },
  {
   "cell_type": "markdown",
   "metadata": {},
   "source": [
    "## Online implementation\n",
    "\n",
    "The classic way to implement a filter is the one-in one-out approach. We will need to implement a persistent delay line."
   ]
  },
  {
   "cell_type": "code",
   "execution_count": 3,
   "metadata": {},
   "outputs": [],
   "source": [
    "class FIR_loop():\n",
    "    def __init__(self, h):\n",
    "        self.h = h\n",
    "        self.ix = 0\n",
    "        self.M = len(h)\n",
    "        self.buffer = np.zeros(self.M)\n",
    "        \n",
    "    def filter(self, x):\n",
    "        y = 0\n",
    "        self.buffer[self.ix] = x\n",
    "        for n in range(self.M):\n",
    "            y += self.h[n] * self.buffer[(self.ix + self.M - n) % self.M]\n",
    "        self.ix = (self.ix + 1) % self.M\n",
    "        return y"
   ]
  },
  {
   "cell_type": "code",
   "execution_count": 11,
   "metadata": {},
   "outputs": [
    {
     "name": "stdout",
     "output_type": "stream",
     "text": [
      "0.0, 0.2, 0.6, 1.2, 2.0, 3.0, 4.0, 5.0, 6.0, 7.0, "
     ]
    }
   ],
   "source": [
    "# moving average\n",
    "h = np.ones(5)/5\n",
    "\n",
    "f = FIR_loop(h)\n",
    "for n in range(10):\n",
    "    print(\"%.1f, \" % f.filter(n), end=\"\")"
   ]
  },
  {
   "cell_type": "markdown",
   "metadata": {},
   "source": [
    "However, when the data to be filtered is known in advance, it makes no sense to explicitly iterate over its element and it's better to use higher-level commands to perform the convolution. In Numpy, the command is `convolve`."
   ]
  },
  {
   "cell_type": "markdown",
   "metadata": {},
   "source": [
    "## Offline implementations: border effects\n",
    "\n",
    "When filtering a finite-length data vector with a finite-length impulse response, we need to decide what to do with the \"invalid\" shifts appearing in the terms of the convolution sum. In the infinite-length case, the output is defined as\n",
    "\n",
    "$$\n",
    "    y[n] = \\sum_{k=-\\infty}^{\\infty} h[k]x[n-k]\n",
    "$$\n",
    "\n",
    "Let's say that the impulse response is $M$ points long, so that $h[n]$ is nonzero only between $0$ and $M-1$; this means that the sum is reduced to \n",
    "\n",
    "$$\n",
    "    y[n] = \\sum_{k=0}^{M-1} h[k]x[n-k]\n",
    "$$\n",
    "\n",
    "Now assume that $x[n]$ is a length-$N$ signal, so it is defined only for $0 \\leq n \\le N$ (we can safely consider $N > M$, otherwise exchange the roles of $x$ and $h$). In this case, the above sum is properly defined only for $M - 1 \\le n \\le N-1$; for any other value of $n$, the sum will contain an element $x[n-k]$ outside of the valid range of indices for the input. \n",
    "\n",
    "So, if we start with an $N$-point input, we can only formally compute $N-M+1$ output samples. While this may not be a problem in some applications, it certainly is troublesome if repeated filtering operations end up \"chipping away\" at the signal little by little.\n",
    "\n",
    "The solution is to \"embed\" the finite-length input data signal into an infinite-length sequence and, as always, the result will depend on the method we choose: finite support or periodization. (Note that the impulse response is already an infinite sequence since it's the response of the filter to the infinite sequence $\\delta[n]$). \n",
    "\n",
    "However, the embedding will create \"artificial\" data points that are dependent on the chosen embedding: these data points are said to suffer from **border effects**."
   ]
  },
  {
   "cell_type": "markdown",
   "metadata": {},
   "source": [
    "Let's build a simple signal and a simple FIR filter:"
   ]
  },
  {
   "cell_type": "code",
   "execution_count": 12,
   "metadata": {},
   "outputs": [
    {
     "name": "stdout",
     "output_type": "stream",
     "text": [
      "Signal length: 21\n"
     ]
    },
    {
     "data": {
      "image/png": "[encoded data removed]",
      "text/plain": [
       "<Figure size 1080x432 with 1 Axes>"
      ]
     },
     "metadata": {
      "needs_background": "light"
     },
     "output_type": "display_data"
    }
   ],
   "source": [
    "# Using moving avg\n",
    "M = 5\n",
    "h = np.ones(M)/float(M)\n",
    "\n",
    "# build a signal with ramp and a plateau\n",
    "x = np.concatenate((np.arange(1,9), np.ones(5) * 8, np.arange(8, 0, -1)))\n",
    "plt.stem(x, use_line_collection=True);\n",
    "print(\"Signal length:\", len(x))"
   ]
  },
  {
   "cell_type": "markdown",
   "metadata": {},
   "source": [
    "### 1) No border effects\n",
    "\n",
    "We may choose to accept the loss of data points and use only the $N-M+1$ output samples that correspond to a full overlap between the input data and the impulse response. This can be achieved by selecting `mode='valid'` in `correlate`:"
   ]
  },
  {
   "cell_type": "code",
   "execution_count": 13,
   "metadata": {},
   "outputs": [
    {
     "name": "stdout",
     "output_type": "stream",
     "text": [
      "Signal Length: 17\n"
     ]
    },
    {
     "data": {
      "image/png": "[encoded data removed]",
      "text/plain": [
       "<Figure size 1080x432 with 1 Axes>"
      ]
     },
     "metadata": {
      "needs_background": "light"
     },
     "output_type": "display_data"
    }
   ],
   "source": [
    "y = np.convolve(x, h, mode='valid')\n",
    "print(\"Signal Length:\", len(y))\n",
    "plt.stem(y, use_line_collection=True);"
   ]
  },
  {
   "cell_type": "markdown",
   "metadata": {},
   "source": [
    "### 2) finite-support extension\n",
    "\n",
    "By embedding the input into a finite-support signal, the convolution sum is now well defined for all values of $n$, which now creates a new problem: the output will be nonzero for all values of $n$ for which $x[n-k]$ is nonzero, that is for $0 \\le n \\le N+M-1$: we end up with a *longer* support for the output sequence. This is the default in `correlate`  and corresponds to `mode='full'`:"
   ]
  },
  {
   "cell_type": "code",
   "execution_count": 14,
   "metadata": {},
   "outputs": [
    {
     "name": "stdout",
     "output_type": "stream",
     "text": [
      "Signal Length: 25\n"
     ]
    },
    {
     "data": {
      "image/png": "[encoded data removed]",
      "text/plain": [
       "<Figure size 1080x432 with 1 Axes>"
      ]
     },
     "metadata": {
      "needs_background": "light"
     },
     "output_type": "display_data"
    }
   ],
   "source": [
    "y = np.convolve(x, h, mode='full')\n",
    "print(\"Signal Length:\", len(y))\n",
    "plt.stem(y, use_line_collection=True);"
   ]
  },
  {
   "cell_type": "markdown",
   "metadata": {},
   "source": [
    "If we want to preserve the same length for input and output, we need to truncate the result. You can keep the *first* $N$ samples and discard the tail; this corresponds to the online implementation of the FIR filter. Alternatively, you can discard half the extra samples from the beginning and half from the end of the output and distribute the border effect evenly; this is achieved in `correlate`  by setting `mode='same'`: "
   ]
  },
  {
   "cell_type": "code",
   "execution_count": 15,
   "metadata": {},
   "outputs": [
    {
     "name": "stdout",
     "output_type": "stream",
     "text": [
      "Signal Length: 21\n"
     ]
    },
    {
     "data": {
      "image/png": "[encoded data removed]",
      "text/plain": [
       "<Figure size 1080x432 with 1 Axes>"
      ]
     },
     "metadata": {
      "needs_background": "light"
     },
     "output_type": "display_data"
    }
   ],
   "source": [
    "y = np.convolve(x, h, mode='same')\n",
    "print(\"Signal Length:\", len(y))\n",
    "plt.stem(y, use_line_collection=True);"
   ]
  },
  {
   "cell_type": "markdown",
   "metadata": {},
   "source": [
    "### 3) Periodic extension \n",
    "\n",
    "The other way of embedding a finite-length signal is to build a periodic extension. The convolution in this case will return an $N$-periodic output:\n",
    "\n",
    "$$\n",
    "    \\tilde{y}[n] = \\sum_{k=0}^{M-1} h[k]\\tilde{x}[n-k]\n",
    "$$\n",
    "\n",
    "We can implement a circular convolution using `convolve` like so: since the overlap between time-reversed impulse response and input is already good for the last $N-M$ points in the output, we just need to consider two periods of the input to compute the first $M$: "
   ]
  },
  {
   "cell_type": "code",
   "execution_count": 16,
   "metadata": {},
   "outputs": [],
   "source": [
    "def cconv(x, h):\n",
    "    L = len(x)\n",
    "    xp = np.concatenate((x,x))\n",
    "    # full convulation\n",
    "    y = np.convolve(xp, h)\n",
    "    return y[L:2*L]"
   ]
  },
  {
   "cell_type": "code",
   "execution_count": 17,
   "metadata": {},
   "outputs": [
    {
     "name": "stdout",
     "output_type": "stream",
     "text": [
      "Signal Length: 21\n"
     ]
    },
    {
     "data": {
      "image/png": "[encoded data removed]",
      "text/plain": [
       "<Figure size 1080x432 with 1 Axes>"
      ]
     },
     "metadata": {
      "needs_background": "light"
     },
     "output_type": "display_data"
    }
   ],
   "source": [
    "y = cconv(x, h)\n",
    "print(\"Signal Length:\", len(y))\n",
    "plt.stem(y, use_line_collection=True);"
   ]
  },
  {
   "cell_type": "markdown",
   "metadata": {},
   "source": [
    "Clearly, the result is not necessarily what we expected; note however that in both circular and \"normal\" convolution, you still have $M-1$ output samples \"touched\" by border effects, it's just that the border effects act differently in the two cases.\n",
    "\n",
    "You can still obtain a \"normal\" convolution using a circular convolution if you zero-pad the input signal with $M-1$ zeros:"
   ]
  },
  {
   "cell_type": "code",
   "execution_count": 19,
   "metadata": {},
   "outputs": [
    {
     "name": "stdout",
     "output_type": "stream",
     "text": [
      "Signal Length: 25\n"
     ]
    },
    {
     "data": {
      "image/png": "[encoded data removed]",
      "text/plain": [
       "<Figure size 1080x432 with 1 Axes>"
      ]
     },
     "metadata": {
      "needs_background": "light"
     },
     "output_type": "display_data"
    }
   ],
   "source": [
    "y = cconv(np.concatenate((x, np.zeros(M-1))), h)\n",
    "print(\"Signal Length:\", len(y))\n",
    "plt.stem(y, use_line_collection=True);\n",
    "# plot in red the difference with the standard conv\n",
    "plt.stem(y - np.convolve(x, h, mode='full'), markerfmt='ro', use_line_collection=True);"
   ]
  },
  {
   "cell_type": "markdown",
   "metadata": {},
   "source": [
    "## Offline implementations using the DFT\n",
    "\n",
    "The convolution theorem states that, for infinite sequences, \n",
    "\n",
    "$$\n",
    "    (x\\ast y)[n] = \\mbox{IDTFT}\\{X(e^{j\\omega})Y(e^{j\\omega})\\}[n]\n",
    "$$\n",
    "\n",
    "What is the inverse DFT of the product of two DFTs?\n",
    "\n",
    "\\begin{align}\n",
    "    \\sum_{k=0}^{N-1}X[k]Y[k]e^{j\\frac{2\\pi}{N}nk} &= \\sum_{k=0}^{N-1}\\sum_{p=0}^{N-1}x[p]e^{-j\\frac{2\\pi}{N}pk}\\sum_{q=0}^{N-1}y[q]e^{-j\\frac{2\\pi}{N}qk} \\,e^{j\\frac{2\\pi}{N}nk} \\\\\n",
    "    &= \\sum_{p=0}^{N-1}\\sum_{q=0}^{N-1}x[p]y[q]\\sum_{k=0}^{N-1}e^{j\\frac{2\\pi}{N}(n-p-q)k} \\\\\n",
    "    &= N\\sum_{p=0}^{N-1}x[p]y[(n-p) \\mod N]\n",
    "\\end{align}\n",
    "\n",
    "The results follows from the fact that $\\sum_{k=0}^{N-1}e^{j\\frac{2\\pi}{N}(n-p-q)k}$ is nonzero only for $n-p-q$ multiple of $N$; as $p$ varies from $0$ to $N-1$, the corresponding value of $q$ between $0$ and $N$ that makes $n-p-q$ multiple of $N$ is $(n-p) \\mod N$.\n",
    "\n",
    "So the fundamental result is: **the inverse DFT of the product of two DFTs is the circular convolution of the underlying time-domain sequences!**\n",
    "\n",
    "\n",
    "To apply this result to FIR filtering, the first step is to choose the space for the DFTs. In our case we have a finite-length data vector of length $N$ and a finite-support impulse response of length $M$ with $M<N$ so let's operate in $\\mathbb{C}^N$ by zero-padding the impulse response to size $N$. Also, we most likely want the normal convolution, so let's zero-pad both signals by an additional $M-1$ samples"
   ]
  },
  {
   "cell_type": "code",
   "execution_count": 24,
   "metadata": {},
   "outputs": [],
   "source": [
    "def DFTconv(x, h, mode='full'):\n",
    "    N = len(x)\n",
    "    M = len(h)\n",
    "    X = fft(x, n=N+M-1)\n",
    "    H = fft(h, n=N+M-1)\n",
    "    \n",
    "    y = np.real(ifft(X * H))\n",
    "    if mode == 'valid':\n",
    "        return y[M-1:N]\n",
    "    elif mode == 'same':\n",
    "        return y[int((M-1)/2):int((M-1)/2)+N]\n",
    "    else:\n",
    "        return y"
   ]
  },
  {
   "cell_type": "code",
   "execution_count": 25,
   "metadata": {},
   "outputs": [
    {
     "name": "stdout",
     "output_type": "stream",
     "text": [
      "signal length:  17\n",
      "signal length:  17\n"
     ]
    },
    {
     "data": {
      "image/png": "[encoded data removed]",
      "text/plain": [
       "<Figure size 1080x432 with 1 Axes>"
      ]
     },
     "metadata": {
      "needs_background": "light"
     },
     "output_type": "display_data"
    }
   ],
   "source": [
    "y = np.convolve(x, h, mode='valid')\n",
    "print('signal length: ', len(y))\n",
    "plt.stem(y, use_line_collection=True);\n",
    "y = DFTconv(x, h, mode='valid')\n",
    "print('signal length: ', len(y))\n",
    "plt.stem(y, markerfmt='ro', use_line_collection=True);"
   ]
  },
  {
   "cell_type": "code",
   "execution_count": 26,
   "metadata": {},
   "outputs": [
    {
     "name": "stdout",
     "output_type": "stream",
     "text": [
      "signal length:  21\n",
      "signal length:  21\n"
     ]
    },
    {
     "data": {
      "image/png": "[encoded data removed]",
      "text/plain": [
       "<Figure size 1080x432 with 1 Axes>"
      ]
     },
     "metadata": {
      "needs_background": "light"
     },
     "output_type": "display_data"
    }
   ],
   "source": [
    "y = np.convolve(x, h, mode='same')\n",
    "print('signal length: ', len(y))\n",
    "plt.stem(y, use_line_collection=True);\n",
    "y = DFTconv(x, h, mode='same')\n",
    "print('signal length: ', len(y))\n",
    "plt.stem(y, markerfmt='ro', use_line_collection=True);"
   ]
  },
  {
   "cell_type": "markdown",
   "metadata": {},
   "source": [
    "The DFTs are taken even though we only want standard convulation is because of computational efficiency \n",
    "\n",
    "If you look at the convolution sum, each output sample requires $M$ multiplications (and $M-1$ additions but let's just consider multiplications). In order to filter an $N$-point signal we will need $NM$ multiplications. Assume $N \\approx M$ and you can see that the computational requirements are on the order of $M^2$. If we go the DFT route using an efficient FFT implementation we have approximately: \n",
    "\n",
    " * $M\\log_2 M$ multiplication to compute $H[k]$\n",
    " * $M\\log_2 M$ multiplication to compute $X[k]$\n",
    " * $M\\log_2 M$ multiplication to compute $X[k]H[k]$\n",
    " * $M\\log_2 M$ multiplication to compute the inverse DFT\n",
    " \n",
    "Even considering that we now have to use complex multiplications (which will cost twice as much), we can estimate the cost of the DFT based convolution at around $8M\\log_2M$, which is smaller than $M^2$ as soon as $M>44$.  "
   ]
  },
  {
   "cell_type": "code",
   "execution_count": null,
   "metadata": {},
   "outputs": [],
   "source": []
  }
 ],
 "metadata": {
  "kernelspec": {
   "display_name": "Python 3",
   "language": "python",
   "name": "python3"
  },
  "language_info": {
   "codemirror_mode": {
    "name": "ipython",
    "version": 3
   },
   "file_extension": ".py",
   "mimetype": "text/x-python",
   "name": "python",
   "nbconvert_exporter": "python",
   "pygments_lexer": "ipython3",
   "version": "3.8.2"
  }
 },
 "nbformat": 4,
 "nbformat_minor": 4
}
